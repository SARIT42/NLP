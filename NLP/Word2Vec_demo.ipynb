{
  "nbformat": 4,
  "nbformat_minor": 0,
  "metadata": {
    "colab": {
      "name": "Word2Vec-demo.ipynb",
      "provenance": []
    },
    "kernelspec": {
      "name": "python3",
      "display_name": "Python 3"
    },
    "language_info": {
      "name": "python"
    }
  },
  "cells": [
    {
      "cell_type": "code",
      "execution_count": 1,
      "metadata": {
        "id": "P4fnCU7NxSN-"
      },
      "outputs": [],
      "source": [
        "import nltk\n",
        "from gensim.models import Word2Vec\n",
        "from nltk.corpus import stopwords\n",
        "import re"
      ]
    },
    {
      "cell_type": "code",
      "source": [
        "nltk.download('punkt')\n",
        "nltk.download('stopwords')"
      ],
      "metadata": {
        "colab": {
          "base_uri": "https://localhost:8080/"
        },
        "id": "hhzmGxaCxnYC",
        "outputId": "8761002a-3bc0-446e-cf41-c69453bcc61b"
      },
      "execution_count": 7,
      "outputs": [
        {
          "output_type": "stream",
          "name": "stderr",
          "text": [
            "[nltk_data] Downloading package punkt to /root/nltk_data...\n",
            "[nltk_data]   Package punkt is already up-to-date!\n",
            "[nltk_data] Downloading package stopwords to /root/nltk_data...\n",
            "[nltk_data]   Unzipping corpora/stopwords.zip.\n"
          ]
        },
        {
          "output_type": "execute_result",
          "data": {
            "text/plain": [
              "True"
            ]
          },
          "metadata": {},
          "execution_count": 7
        }
      ]
    },
    {
      "cell_type": "code",
      "source": [
        "paragraph = \"\"\"I have three visions for India. In 3000 years of our history, people from all over \n",
        "               the world have come and invaded us, captured our lands, conquered our minds. \n",
        "               From Alexander onwards, the Greeks, the Turks, the Moguls, the Portuguese, the British,\n",
        "               the French, the Dutch, all of them came and looted us, took over what was ours. \n",
        "               Yet we have not done this to any other nation. We have not conquered anyone. \n",
        "               We have not grabbed their land, their culture, \n",
        "               their history and tried to enforce our way of life on them. \n",
        "               Why? Because we respect the freedom of others.That is why my \n",
        "               first vision is that of freedom. I believe that India got its first vision of \n",
        "               this in 1857, when we started the War of Independence. It is this freedom that\n",
        "               we must protect and nurture and build on. If we are not free, no one will respect us.\n",
        "               My second vision for India’s development. For fifty years we have been a developing nation.\n",
        "               It is time we see ourselves as a developed nation. We are among the top 5 nations of the world\n",
        "               in terms of GDP. We have a 10 percent growth rate in most areas. Our poverty levels are falling.\n",
        "               Our achievements are being globally recognised today. Yet we lack the self-confidence to\n",
        "               see ourselves as a developed nation, self-reliant and self-assured. Isn’t this incorrect?\n",
        "               I have a third vision. India must stand up to the world. Because I believe that unless India \n",
        "               stands up to the world, no one will respect us. Only strength respects strength. We must be \n",
        "               strong not only as a military power but also as an economic power. Both must go hand-in-hand. \n",
        "               My good fortune was to have worked with three great minds. Dr. Vikram Sarabhai of the Dept. of \n",
        "               space, Professor Satish Dhawan, who succeeded him and Dr. Brahm Prakash, father of nuclear material.\n",
        "               I was lucky to have worked with all three of them closely and consider this the great opportunity of my life. \n",
        "               I see four milestones in my career\"\"\""
      ],
      "metadata": {
        "id": "lsXftj1cxbRQ"
      },
      "execution_count": 2,
      "outputs": []
    },
    {
      "cell_type": "code",
      "source": [
        "text = re.sub(r'\\[[0-9]*\\]',' ',paragraph)\n",
        "text = re.sub(r'\\s+',' ',text)\n",
        "text = text.lower()\n",
        "text = re.sub(r'\\d',' ',text)\n",
        "text = re.sub(r'\\s+',' ',text)"
      ],
      "metadata": {
        "id": "BQLW2rQPxeMl"
      },
      "execution_count": 3,
      "outputs": []
    },
    {
      "cell_type": "code",
      "source": [
        "sentences = nltk.sent_tokenize(text)\n",
        "\n",
        "sentences = [nltk.word_tokenize(sentence) for sentence in sentences]\n",
        "\n",
        "for i in range(len(sentences)):\n",
        "    sentences[i] = [word for word in sentences[i] if word not in stopwords.words('english')]"
      ],
      "metadata": {
        "id": "2FD5igsBxg2s"
      },
      "execution_count": 8,
      "outputs": []
    },
    {
      "cell_type": "code",
      "source": [
        "# Training the Word2Vec model\n",
        "model = Word2Vec(sentences, min_count=1,window=10)\n",
        "\n",
        "\n",
        "words = model.wv.vocab\n",
        "\n",
        "# Finding Word Vectors\n",
        "vector = model.wv['war']\n",
        "vector"
      ],
      "metadata": {
        "colab": {
          "base_uri": "https://localhost:8080/"
        },
        "id": "6cVqypmfxket",
        "outputId": "30b60903-3813-4803-9222-fdf7675c0a26"
      },
      "execution_count": 16,
      "outputs": [
        {
          "output_type": "execute_result",
          "data": {
            "text/plain": [
              "array([ 0.00330702,  0.00221855, -0.00438738,  0.00146655, -0.00202464,\n",
              "        0.00479787, -0.00378246,  0.0011371 , -0.00408854,  0.00072841,\n",
              "        0.00214217,  0.00175188, -0.00066172, -0.00202457,  0.00288272,\n",
              "       -0.00400425, -0.001987  ,  0.00218332,  0.0007579 , -0.00317343,\n",
              "        0.0005749 , -0.0012385 ,  0.00085889, -0.00062148,  0.0032924 ,\n",
              "        0.00065868, -0.00065274, -0.00194025, -0.00100206,  0.00069315,\n",
              "        0.00302133,  0.00165215,  0.00349679,  0.00057446,  0.00490726,\n",
              "        0.00329919,  0.00075478,  0.0036514 , -0.00047441,  0.00423081,\n",
              "        0.00330804, -0.00252857,  0.00365159,  0.00350879, -0.00275353,\n",
              "       -0.00066821, -0.00392663, -0.00168927,  0.00131631,  0.00359622,\n",
              "       -0.00449516, -0.00279771,  0.00287908, -0.00127116,  0.00014587,\n",
              "       -0.00213631,  0.0035907 ,  0.00107365, -0.0035839 , -0.00293074,\n",
              "        0.00112934,  0.00068758, -0.00123118,  0.00322279, -0.00395512,\n",
              "       -0.00420532,  0.00257184,  0.00260602, -0.00459904, -0.00056849,\n",
              "       -0.00171018, -0.0043785 , -0.0001475 ,  0.00020036,  0.00045469,\n",
              "       -0.00052301, -0.00465438,  0.00419778, -0.00294765, -0.00249734,\n",
              "        0.00366179, -0.00088967, -0.00246496,  0.0033507 ,  0.00284083,\n",
              "       -0.00176541,  0.00063449,  0.00061514,  0.00280253, -0.00143899,\n",
              "        0.00348943,  0.00050309,  0.00406346,  0.00184471,  0.00198652,\n",
              "       -0.00041059, -0.00290078, -0.00490412,  0.00232674,  0.00077612],\n",
              "      dtype=float32)"
            ]
          },
          "metadata": {},
          "execution_count": 16
        }
      ]
    },
    {
      "cell_type": "code",
      "source": [
        "model.wv.most_similar('india')"
      ],
      "metadata": {
        "colab": {
          "base_uri": "https://localhost:8080/"
        },
        "id": "TYUuZ4H0yUzh",
        "outputId": "a5bd6787-307d-4bc5-b6e3-a87fa42e73d8"
      },
      "execution_count": 15,
      "outputs": [
        {
          "output_type": "execute_result",
          "data": {
            "text/plain": [
              "[('free', 0.23985417187213898),\n",
              " ('four', 0.21263495087623596),\n",
              " ('growth', 0.20344047248363495),\n",
              " ('dept', 0.19669805467128754),\n",
              " ('father', 0.17756018042564392),\n",
              " ('economic', 0.17513003945350647),\n",
              " ('self-assured', 0.1591278612613678),\n",
              " ('nations', 0.15654484927654266),\n",
              " ('moguls', 0.1427329182624817),\n",
              " ('incorrect', 0.1357267051935196)]"
            ]
          },
          "metadata": {},
          "execution_count": 15
        }
      ]
    }
  ]
}