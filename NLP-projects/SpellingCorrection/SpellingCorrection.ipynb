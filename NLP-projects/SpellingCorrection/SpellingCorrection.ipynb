{
  "nbformat": 4,
  "nbformat_minor": 0,
  "metadata": {
    "colab": {
      "name": "SpellingCorrection.ipynb",
      "provenance": []
    },
    "kernelspec": {
      "name": "python3",
      "display_name": "Python 3"
    },
    "language_info": {
      "name": "python"
    }
  },
  "cells": [
    {
      "cell_type": "markdown",
      "source": [
        "A program to correct spellings with Python programming language. For this task, I will use a NLP library in Python known as TextBlob."
      ],
      "metadata": {
        "id": "VEqNXzZXieP8"
      }
    },
    {
      "cell_type": "markdown",
      "source": [
        "## What is TextBlob?\n",
        "\n",
        "TextBlob is a Python library for processing text data. It provides a simple API for delving into common natural language processing tasks such as tagging part of speech, extracting nominal sentences, analyzing feelings, classifying, translating, and more.\n",
        "\n",
        "It provides some very useful features for Machine Learning projects like:\n",
        "\n",
        "1. Noun phrase extraction\n",
        "2. Part-of-speech tagging\n",
        "3. Sentiment analysis\n",
        "4. Classification\n",
        "5. Tokenization\n",
        "6. Word and phrase frequencies\n",
        "7. Parsing\n",
        "8. n-grams\n",
        "9. Word inflexion and lemmatization\n",
        "10. Spelling correction\n",
        "11. Add new models or languages through extensions\n",
        "12. WordNet integration\n",
        "\n",
        "And many more...\n",
        "\n",
        "You can simply install the TextBlob library in your systems by writing a pip command; pip install textblob."
      ],
      "metadata": {
        "id": "Yc70wEf2iphy"
      }
    },
    {
      "cell_type": "code",
      "execution_count": 2,
      "metadata": {
        "id": "oMml_pJZtg65",
        "colab": {
          "base_uri": "https://localhost:8080/"
        },
        "outputId": "2df17f33-cf5f-4a9b-c78e-2ab64c663c4e"
      },
      "outputs": [
        {
          "output_type": "stream",
          "name": "stdout",
          "text": [
            "Wrong : ['Intresting', 'Librery', 'TextBlob']\n",
            "\n",
            "\n",
            "Corrected Words are: \n",
            "Interesting Library TextBlob "
          ]
        }
      ],
      "source": [
        "from textblob import TextBlob\n",
        "\n",
        "words = [\"Intresting\",\"Librery\",\"TextBlob\"]\n",
        "corrected_words =[]\n",
        "\n",
        "for i in words:\n",
        "  corrected_words.append(TextBlob(i))\n",
        "\n",
        "print(\"Wrong :\",words)\n",
        "print(\"\\n\")\n",
        "print(\"Corrected Words are: \")\n",
        "for i in corrected_words:\n",
        "  print(i.correct(),end=\" \")"
      ]
    },
    {
      "cell_type": "markdown",
      "source": [
        "So this is how we can write a python program using the TextBlob library for correcting spellings. This feature can be used in Natural language processing projects in Machine Learning."
      ],
      "metadata": {
        "id": "G7Z4KdjvlHT8"
      }
    }
  ]
}